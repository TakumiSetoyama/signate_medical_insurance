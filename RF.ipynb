{
 "cells": [
  {
   "cell_type": "code",
   "execution_count": 10,
   "id": "6f112477",
   "metadata": {},
   "outputs": [],
   "source": [
    "import pandas as pd\n",
    "import numpy as np\n",
    "import seaborn as sns\n",
    "import matplotlib.pyplot as plt\n",
    "%matplotlib inline"
   ]
  },
  {
   "cell_type": "code",
   "execution_count": 11,
   "id": "9e177665",
   "metadata": {},
   "outputs": [],
   "source": [
    "train_df = pd.read_csv('./data/train.csv')\n",
    "test_df = pd.read_csv('./data/test.csv')\n",
    "sample_submit = pd.read_csv('./data/sample_submit.csv',header=None, index_col=0)"
   ]
  },
  {
   "cell_type": "code",
   "execution_count": 12,
   "id": "5384b476",
   "metadata": {},
   "outputs": [],
   "source": [
    "train_df = train_df.drop(columns=['id'])\n",
    "df = train_df.dropna()\n",
    "\n",
    "X = df.drop(columns=['charges'])\n",
    "y = df['charges']\n",
    "\n",
    "X = pd.get_dummies(X)"
   ]
  },
  {
   "cell_type": "code",
   "execution_count": 13,
   "id": "fa879118",
   "metadata": {},
   "outputs": [],
   "source": [
    "from sklearn.model_selection import train_test_split\n",
    "\n",
    "X_train, X_test, y_train, y_test = train_test_split(X, y, test_size=0.2, random_state=0, stratify=y)"
   ]
  },
  {
   "cell_type": "markdown",
   "id": "3934dac7",
   "metadata": {},
   "source": [
    "# RF"
   ]
  },
  {
   "cell_type": "code",
   "execution_count": 108,
   "id": "04c630b9",
   "metadata": {},
   "outputs": [
    {
     "data": {
      "text/plain": [
       "RandomForestClassifier(max_features=9, min_samples_leaf=7)"
      ]
     },
     "execution_count": 108,
     "metadata": {},
     "output_type": "execute_result"
    }
   ],
   "source": [
    "from sklearn.ensemble import RandomForestClassifier\n",
    "\n",
    "rf = RandomForestClassifier(n_estimators=100, max_depth=None, min_samples_leaf=7, max_features=9)\n",
    "rf.fit(X_train, y_train)"
   ]
  },
  {
   "cell_type": "code",
   "execution_count": 109,
   "id": "b9891c84",
   "metadata": {},
   "outputs": [
    {
     "name": "stdout",
     "output_type": "stream",
     "text": [
      "acc_train: 0.90703125   acc_test: 0.871875\n"
     ]
    }
   ],
   "source": [
    "from sklearn.metrics import accuracy_score\n",
    "\n",
    "# 正答率\n",
    "acc_train = accuracy_score(y_train, rf.predict(X_train))\n",
    "acc_test = accuracy_score(y_test, rf.predict(X_test))\n",
    "\n",
    "print(\"acc_train: \"+ str(acc_train) + \"   acc_test: \"+ str(acc_test))"
   ]
  },
  {
   "cell_type": "code",
   "execution_count": 110,
   "id": "a8388ccf",
   "metadata": {},
   "outputs": [
    {
     "name": "stdout",
     "output_type": "stream",
     "text": [
      "f1_train: 0.8038054775203202 f1_test 0.7047950564798956\n"
     ]
    }
   ],
   "source": [
    "from sklearn.metrics import f1_score\n",
    "\n",
    "f1_train = f1_score(y_train, rf.predict(X_train), average='macro')\n",
    "f1_test = f1_score(y_test, rf.predict(X_test), average='macro')\n",
    "\n",
    "# 評価結果の表示\n",
    "print(\"f1_train:\", f1_train, \"f1_test\", f1_test)"
   ]
  },
  {
   "cell_type": "code",
   "execution_count": 104,
   "id": "446c863e",
   "metadata": {},
   "outputs": [
    {
     "name": "stdout",
     "output_type": "stream",
     "text": [
      "[[968  28   9]\n",
      " [ 63  80  15]\n",
      " [  8   9 100]]\n",
      "[[241   8   2]\n",
      " [ 17  15   8]\n",
      " [  1   9  19]]\n"
     ]
    }
   ],
   "source": [
    "from sklearn.metrics import confusion_matrix\n",
    "\n",
    "cm_train = confusion_matrix(y_train, rf.predict(X_train))\n",
    "cm_test = confusion_matrix(y_test, rf.predict(X_test))\n",
    "\n",
    "# 混同行列の表示\n",
    "print(cm_train)\n",
    "print(cm_test)"
   ]
  },
  {
   "cell_type": "code",
   "execution_count": 88,
   "id": "e7aa3805",
   "metadata": {
    "scrolled": true
   },
   "outputs": [
    {
     "name": "stdout",
     "output_type": "stream",
     "text": [
      "min_samples_leaf=1 score=0.8375f1=0.6326\n",
      "min_samples_leaf=2 score=0.8500f1=0.6487\n",
      "min_samples_leaf=3 score=0.8594f1=0.6700\n",
      "min_samples_leaf=4 score=0.8656f1=0.6861\n",
      "min_samples_leaf=5 score=0.8656f1=0.6809\n",
      "min_samples_leaf=6 score=0.8688f1=0.6889\n",
      "min_samples_leaf=7 score=0.8594f1=0.6723\n",
      "min_samples_leaf=8 score=0.8594f1=0.6792\n",
      "min_samples_leaf=9 score=0.8562f1=0.6697\n",
      "min_samples_leaf=10 score=0.8562f1=0.6697\n"
     ]
    }
   ],
   "source": [
    "for min_samples_leaf in [1, 2, 3, 4, 5, 6, 7, 8, 9, 10]:\n",
    "            rfc = RandomForestClassifier(n_estimators=500, min_samples_leaf=min_samples_leaf, random_state=0)\n",
    "            rfc.fit(X_train, y_train)\n",
    "            score = rfc.score(X_test, y_test)\n",
    "            f1 = f1_score(y_test, rfc.predict(X_test), average='macro')\n",
    "            print((\"min_samples_leaf={} \"\"score={:.4f}\"\"f1={:.4f}\").format(min_samples_leaf, score, f1))"
   ]
  },
  {
   "cell_type": "code",
   "execution_count": 96,
   "id": "dbf2118f",
   "metadata": {},
   "outputs": [
    {
     "data": {
      "text/plain": [
       "GridSearchCV(cv=5,\n",
       "             estimator=RandomForestClassifier(n_estimators=500, random_state=0),\n",
       "             param_grid={'max_features': [1, 2, 3, 4, 5, 6, 7, 8, 9, 10],\n",
       "                         'min_samples_leaf': [1, 2, 3, 4, 5, 6, 7, 8, 9, 10]},\n",
       "             scoring='accuracy')"
      ]
     },
     "execution_count": 96,
     "metadata": {},
     "output_type": "execute_result"
    }
   ],
   "source": [
    "from sklearn.model_selection import GridSearchCV\n",
    "param_range = [1, 2, 3, 4, 5, 6, 7, 8, 9, 10]\n",
    "param_grid = {\"max_features\": param_range, \"min_samples_leaf\": param_range}\n",
    "\n",
    "rfc = RandomForestClassifier(n_estimators=500, random_state=0, max_depth=None)\n",
    "gs_rf = GridSearchCV(estimator=rfc, param_grid=param_grid, scoring='accuracy', cv=5)\n",
    "\n",
    "gs_rf.fit(X_train, y_train)"
   ]
  },
  {
   "cell_type": "code",
   "execution_count": 98,
   "id": "3ec029c8",
   "metadata": {},
   "outputs": [
    {
     "data": {
      "text/plain": [
       "(0.87578125, {'max_features': 4, 'min_samples_leaf': 9})"
      ]
     },
     "execution_count": 98,
     "metadata": {},
     "output_type": "execute_result"
    }
   ],
   "source": [
    "gs_rf.best_score_, gs_rf.best_params_"
   ]
  },
  {
   "cell_type": "code",
   "execution_count": 100,
   "id": "3ba80a89",
   "metadata": {},
   "outputs": [
    {
     "data": {
      "text/plain": [
       "0.6833736234219715"
      ]
     },
     "execution_count": 100,
     "metadata": {},
     "output_type": "execute_result"
    }
   ],
   "source": [
    "clf = gs_rf.best_estimator_\n",
    "clf.fit(X_train, y_train)\n",
    "y_pred = clf.predict(X_test)\n",
    "f1_score(y_test, y_pred, average='macro')"
   ]
  },
  {
   "cell_type": "markdown",
   "id": "6fdc76d5",
   "metadata": {},
   "source": [
    "## 提出"
   ]
  },
  {
   "cell_type": "code",
   "execution_count": 111,
   "id": "c1222ff2",
   "metadata": {},
   "outputs": [
    {
     "data": {
      "text/plain": [
       "(400, 11)"
      ]
     },
     "execution_count": 111,
     "metadata": {},
     "output_type": "execute_result"
    }
   ],
   "source": [
    "test = test_df.drop(columns=['id'])\n",
    "#print(test.shape)\n",
    "\n",
    "#test = test.fillna(0)\n",
    "#print(test.shape)\n",
    "\n",
    "test_X = pd.get_dummies(test)\n",
    "test_X.shape"
   ]
  },
  {
   "cell_type": "code",
   "execution_count": null,
   "id": "8fa9f3ad",
   "metadata": {},
   "outputs": [],
   "source": [
    "sample_submit[1] = pipe.predict(test_X)\n",
    "sample_submit.to_csv('submit.csv', header=None)\n",
    "sample_submit.head()"
   ]
  }
 ],
 "metadata": {
  "kernelspec": {
   "display_name": "Python 3",
   "language": "python",
   "name": "python3"
  },
  "language_info": {
   "codemirror_mode": {
    "name": "ipython",
    "version": 3
   },
   "file_extension": ".py",
   "mimetype": "text/x-python",
   "name": "python",
   "nbconvert_exporter": "python",
   "pygments_lexer": "ipython3",
   "version": "3.8.5"
  }
 },
 "nbformat": 4,
 "nbformat_minor": 5
}
