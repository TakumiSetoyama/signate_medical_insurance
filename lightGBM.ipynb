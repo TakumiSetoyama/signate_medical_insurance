{
 "cells": [
  {
   "cell_type": "code",
   "execution_count": 1,
   "id": "dfe213c2",
   "metadata": {},
   "outputs": [],
   "source": [
    "import pandas as pd\n",
    "import numpy as np\n",
    "import seaborn as sns\n",
    "import matplotlib.pyplot as plt\n",
    "%matplotlib inline"
   ]
  },
  {
   "cell_type": "code",
   "execution_count": 2,
   "id": "d357e5d2",
   "metadata": {},
   "outputs": [],
   "source": [
    "train_df = pd.read_csv('./data/train.csv')\n",
    "test_df = pd.read_csv('./data/test.csv')\n",
    "sample_submit = pd.read_csv('./data/sample_submit.csv',header=None, index_col=0)"
   ]
  },
  {
   "cell_type": "code",
   "execution_count": 3,
   "id": "f443ed25",
   "metadata": {},
   "outputs": [],
   "source": [
    "train_df = train_df.drop(columns=['id'])\n",
    "df = train_df.dropna()\n",
    "\n",
    "X = df.drop(columns=['charges'])\n",
    "y = df['charges']\n",
    "\n",
    "X = pd.get_dummies(X)"
   ]
  },
  {
   "cell_type": "code",
   "execution_count": 5,
   "id": "75844fc2",
   "metadata": {},
   "outputs": [],
   "source": [
    "from sklearn.model_selection import train_test_split\n",
    "\n",
    "X_train, X_test, y_train, y_test = train_test_split(X, y, test_size=0.2, random_state=0, stratify=y)"
   ]
  },
  {
   "cell_type": "markdown",
   "id": "fc943ae7",
   "metadata": {},
   "source": [
    "# lightGBM"
   ]
  },
  {
   "cell_type": "code",
   "execution_count": 13,
   "id": "5c308860",
   "metadata": {},
   "outputs": [
    {
     "name": "stdout",
     "output_type": "stream",
     "text": [
      "Training until validation scores don't improve for 5 rounds\n",
      "[500]\ttraining's multi_logloss: 0.294834\n",
      "[1000]\ttraining's multi_logloss: 0.255668\n",
      "[1500]\ttraining's multi_logloss: 0.225486\n",
      "[2000]\ttraining's multi_logloss: 0.20291\n",
      "[2500]\ttraining's multi_logloss: 0.184279\n",
      "[3000]\ttraining's multi_logloss: 0.168765\n",
      "[3500]\ttraining's multi_logloss: 0.156349\n",
      "[4000]\ttraining's multi_logloss: 0.144901\n",
      "[4500]\ttraining's multi_logloss: 0.134335\n",
      "[5000]\ttraining's multi_logloss: 0.123189\n",
      "[5500]\ttraining's multi_logloss: 0.113246\n",
      "[6000]\ttraining's multi_logloss: 0.105185\n",
      "[6500]\ttraining's multi_logloss: 0.0988118\n",
      "[7000]\ttraining's multi_logloss: 0.0920803\n",
      "[7500]\ttraining's multi_logloss: 0.0863403\n",
      "[8000]\ttraining's multi_logloss: 0.0805237\n",
      "[8500]\ttraining's multi_logloss: 0.0747927\n",
      "[9000]\ttraining's multi_logloss: 0.0695317\n",
      "[9500]\ttraining's multi_logloss: 0.0652596\n",
      "[10000]\ttraining's multi_logloss: 0.061441\n",
      "Did not meet early stopping. Best iteration is:\n",
      "[10000]\ttraining's multi_logloss: 0.061441\n"
     ]
    },
    {
     "data": {
      "text/plain": [
       "LGBMClassifier(learning_rate=0.01, min_child_samples=10, n_estimators=10000,\n",
       "               num_leaves=4)"
      ]
     },
     "execution_count": 13,
     "metadata": {},
     "output_type": "execute_result"
    }
   ],
   "source": [
    "# 勾配ブースティング決定木回帰モデルの学習\n",
    "from lightgbm import LGBMClassifier\n",
    "nbr = LGBMClassifier(learning_rate = 0.01,\n",
    "                    n_estimators = 10000,\n",
    "                    num_leaves = 4,\n",
    "                    min_child_samples = 10)\n",
    "nbr.fit(X_train, y_train,\n",
    "        eval_set = (X_train, y_train), \n",
    "        early_stopping_rounds = 5, \n",
    "        verbose = 500)     # verboseは学習の様子をprintするiterationの間隔"
   ]
  },
  {
   "cell_type": "code",
   "execution_count": 14,
   "id": "9ce531bb",
   "metadata": {},
   "outputs": [
    {
     "name": "stdout",
     "output_type": "stream",
     "text": [
      "acc_train: 0.990625   acc_test: 0.859375\n"
     ]
    }
   ],
   "source": [
    "from sklearn.metrics import accuracy_score\n",
    "\n",
    "# 正答率\n",
    "acc_train = accuracy_score(y_train, nbr.predict(X_train))\n",
    "acc_test = accuracy_score(y_test, nbr.predict(X_test))\n",
    "\n",
    "print(\"acc_train: \"+ str(acc_train) + \"   acc_test: \"+ str(acc_test))"
   ]
  },
  {
   "cell_type": "code",
   "execution_count": 15,
   "id": "778c7932",
   "metadata": {},
   "outputs": [
    {
     "name": "stdout",
     "output_type": "stream",
     "text": [
      "f1_train: 0.9848638658961946 f1_test 0.675422593608471\n"
     ]
    }
   ],
   "source": [
    "from sklearn.metrics import f1_score\n",
    "\n",
    "f1_train = f1_score(y_train, nbr.predict(X_train), average='macro')\n",
    "f1_test = f1_score(y_test, nbr.predict(X_test), average='macro')\n",
    "\n",
    "# 評価結果の表示\n",
    "print(\"f1_train:\", f1_train, \"f1_test\", f1_test)"
   ]
  },
  {
   "cell_type": "markdown",
   "id": "d8edfc47",
   "metadata": {},
   "source": [
    "## 提出"
   ]
  },
  {
   "cell_type": "code",
   "execution_count": 16,
   "id": "64a32d35",
   "metadata": {},
   "outputs": [
    {
     "data": {
      "text/plain": [
       "(400, 11)"
      ]
     },
     "execution_count": 16,
     "metadata": {},
     "output_type": "execute_result"
    }
   ],
   "source": [
    "test = test_df.drop(columns=['id'])\n",
    "\n",
    "test_X = pd.get_dummies(test)\n",
    "test_X.shape"
   ]
  },
  {
   "cell_type": "code",
   "execution_count": 18,
   "id": "06c92907",
   "metadata": {},
   "outputs": [
    {
     "data": {
      "text/html": [
       "<div>\n",
       "<style scoped>\n",
       "    .dataframe tbody tr th:only-of-type {\n",
       "        vertical-align: middle;\n",
       "    }\n",
       "\n",
       "    .dataframe tbody tr th {\n",
       "        vertical-align: top;\n",
       "    }\n",
       "\n",
       "    .dataframe thead th {\n",
       "        text-align: right;\n",
       "    }\n",
       "</style>\n",
       "<table border=\"1\" class=\"dataframe\">\n",
       "  <thead>\n",
       "    <tr style=\"text-align: right;\">\n",
       "      <th></th>\n",
       "      <th>1</th>\n",
       "    </tr>\n",
       "    <tr>\n",
       "      <th>0</th>\n",
       "      <th></th>\n",
       "    </tr>\n",
       "  </thead>\n",
       "  <tbody>\n",
       "    <tr>\n",
       "      <th>13</th>\n",
       "      <td>0</td>\n",
       "    </tr>\n",
       "    <tr>\n",
       "      <th>23</th>\n",
       "      <td>2</td>\n",
       "    </tr>\n",
       "    <tr>\n",
       "      <th>27</th>\n",
       "      <td>0</td>\n",
       "    </tr>\n",
       "    <tr>\n",
       "      <th>28</th>\n",
       "      <td>0</td>\n",
       "    </tr>\n",
       "    <tr>\n",
       "      <th>29</th>\n",
       "      <td>0</td>\n",
       "    </tr>\n",
       "  </tbody>\n",
       "</table>\n",
       "</div>"
      ],
      "text/plain": [
       "    1\n",
       "0    \n",
       "13  0\n",
       "23  2\n",
       "27  0\n",
       "28  0\n",
       "29  0"
      ]
     },
     "execution_count": 18,
     "metadata": {},
     "output_type": "execute_result"
    }
   ],
   "source": [
    "sample_submit[1] = nbr.predict(test_X)\n",
    "sample_submit.to_csv('submit_lgbm.csv', header=None)\n",
    "sample_submit.head()"
   ]
  },
  {
   "cell_type": "code",
   "execution_count": null,
   "id": "026b5cf3",
   "metadata": {},
   "outputs": [],
   "source": []
  }
 ],
 "metadata": {
  "kernelspec": {
   "display_name": "Python 3",
   "language": "python",
   "name": "python3"
  },
  "language_info": {
   "codemirror_mode": {
    "name": "ipython",
    "version": 3
   },
   "file_extension": ".py",
   "mimetype": "text/x-python",
   "name": "python",
   "nbconvert_exporter": "python",
   "pygments_lexer": "ipython3",
   "version": "3.8.8"
  }
 },
 "nbformat": 4,
 "nbformat_minor": 5
}
