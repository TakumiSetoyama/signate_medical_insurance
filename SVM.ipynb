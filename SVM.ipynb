{
 "cells": [
  {
   "cell_type": "code",
   "execution_count": 2,
   "id": "fb5c3c89",
   "metadata": {},
   "outputs": [],
   "source": [
    "import pandas as pd\n",
    "import numpy as np\n",
    "import seaborn as sns\n",
    "import matplotlib.pyplot as plt"
   ]
  },
  {
   "cell_type": "code",
   "execution_count": 3,
   "id": "3e1352d3",
   "metadata": {},
   "outputs": [],
   "source": [
    "train_df = pd.read_csv('./data/train.csv')\n",
    "test_df = pd.read_csv('./data/test.csv')\n",
    "sample_submit_df = pd.read_csv('./data/sample_submit.csv')"
   ]
  },
  {
   "cell_type": "code",
   "execution_count": 4,
   "id": "dc018ee2",
   "metadata": {},
   "outputs": [],
   "source": [
    "train_df = train_df.drop(columns=['id'])"
   ]
  },
  {
   "cell_type": "code",
   "execution_count": 5,
   "id": "a6467cc5",
   "metadata": {},
   "outputs": [
    {
     "data": {
      "text/html": [
       "<div>\n",
       "<style scoped>\n",
       "    .dataframe tbody tr th:only-of-type {\n",
       "        vertical-align: middle;\n",
       "    }\n",
       "\n",
       "    .dataframe tbody tr th {\n",
       "        vertical-align: top;\n",
       "    }\n",
       "\n",
       "    .dataframe thead th {\n",
       "        text-align: right;\n",
       "    }\n",
       "</style>\n",
       "<table border=\"1\" class=\"dataframe\">\n",
       "  <thead>\n",
       "    <tr style=\"text-align: right;\">\n",
       "      <th></th>\n",
       "      <th>age</th>\n",
       "      <th>sex</th>\n",
       "      <th>bmi</th>\n",
       "      <th>children</th>\n",
       "      <th>smoker</th>\n",
       "      <th>region</th>\n",
       "      <th>charges</th>\n",
       "    </tr>\n",
       "  </thead>\n",
       "  <tbody>\n",
       "    <tr>\n",
       "      <th>0</th>\n",
       "      <td>26</td>\n",
       "      <td>male</td>\n",
       "      <td>32.665465</td>\n",
       "      <td>3</td>\n",
       "      <td>no</td>\n",
       "      <td>southeast</td>\n",
       "      <td>0</td>\n",
       "    </tr>\n",
       "    <tr>\n",
       "      <th>1</th>\n",
       "      <td>41</td>\n",
       "      <td>male</td>\n",
       "      <td>29.798725</td>\n",
       "      <td>1</td>\n",
       "      <td>no</td>\n",
       "      <td>southwest</td>\n",
       "      <td>0</td>\n",
       "    </tr>\n",
       "    <tr>\n",
       "      <th>2</th>\n",
       "      <td>28</td>\n",
       "      <td>male</td>\n",
       "      <td>32.722029</td>\n",
       "      <td>0</td>\n",
       "      <td>yes</td>\n",
       "      <td>northwest</td>\n",
       "      <td>1</td>\n",
       "    </tr>\n",
       "    <tr>\n",
       "      <th>3</th>\n",
       "      <td>20</td>\n",
       "      <td>female</td>\n",
       "      <td>38.429831</td>\n",
       "      <td>2</td>\n",
       "      <td>no</td>\n",
       "      <td>southeast</td>\n",
       "      <td>0</td>\n",
       "    </tr>\n",
       "    <tr>\n",
       "      <th>4</th>\n",
       "      <td>45</td>\n",
       "      <td>female</td>\n",
       "      <td>29.641854</td>\n",
       "      <td>1</td>\n",
       "      <td>no</td>\n",
       "      <td>northwest</td>\n",
       "      <td>0</td>\n",
       "    </tr>\n",
       "  </tbody>\n",
       "</table>\n",
       "</div>"
      ],
      "text/plain": [
       "   age     sex        bmi  children smoker     region  charges\n",
       "0   26    male  32.665465         3     no  southeast        0\n",
       "1   41    male  29.798725         1     no  southwest        0\n",
       "2   28    male  32.722029         0    yes  northwest        1\n",
       "3   20  female  38.429831         2     no  southeast        0\n",
       "4   45  female  29.641854         1     no  northwest        0"
      ]
     },
     "execution_count": 5,
     "metadata": {},
     "output_type": "execute_result"
    }
   ],
   "source": [
    "train_df.head()"
   ]
  },
  {
   "cell_type": "code",
   "execution_count": 6,
   "id": "5477516b",
   "metadata": {},
   "outputs": [],
   "source": [
    "X = pd.get_dummies(train_df[['age', 'sex', 'bmi', 'children', 'smoker', 'region']])\n",
    "y = train_df['charges']"
   ]
  },
  {
   "cell_type": "code",
   "execution_count": 7,
   "id": "3b42d68f",
   "metadata": {},
   "outputs": [
    {
     "data": {
      "text/html": [
       "<div>\n",
       "<style scoped>\n",
       "    .dataframe tbody tr th:only-of-type {\n",
       "        vertical-align: middle;\n",
       "    }\n",
       "\n",
       "    .dataframe tbody tr th {\n",
       "        vertical-align: top;\n",
       "    }\n",
       "\n",
       "    .dataframe thead th {\n",
       "        text-align: right;\n",
       "    }\n",
       "</style>\n",
       "<table border=\"1\" class=\"dataframe\">\n",
       "  <thead>\n",
       "    <tr style=\"text-align: right;\">\n",
       "      <th></th>\n",
       "      <th>age</th>\n",
       "      <th>bmi</th>\n",
       "      <th>children</th>\n",
       "      <th>sex_female</th>\n",
       "      <th>sex_male</th>\n",
       "      <th>smoker_no</th>\n",
       "      <th>smoker_yes</th>\n",
       "      <th>region_northeast</th>\n",
       "      <th>region_northwest</th>\n",
       "      <th>region_southeast</th>\n",
       "      <th>region_southwest</th>\n",
       "    </tr>\n",
       "  </thead>\n",
       "  <tbody>\n",
       "    <tr>\n",
       "      <th>0</th>\n",
       "      <td>26</td>\n",
       "      <td>32.665465</td>\n",
       "      <td>3</td>\n",
       "      <td>0</td>\n",
       "      <td>1</td>\n",
       "      <td>1</td>\n",
       "      <td>0</td>\n",
       "      <td>0</td>\n",
       "      <td>0</td>\n",
       "      <td>1</td>\n",
       "      <td>0</td>\n",
       "    </tr>\n",
       "    <tr>\n",
       "      <th>1</th>\n",
       "      <td>41</td>\n",
       "      <td>29.798725</td>\n",
       "      <td>1</td>\n",
       "      <td>0</td>\n",
       "      <td>1</td>\n",
       "      <td>1</td>\n",
       "      <td>0</td>\n",
       "      <td>0</td>\n",
       "      <td>0</td>\n",
       "      <td>0</td>\n",
       "      <td>1</td>\n",
       "    </tr>\n",
       "    <tr>\n",
       "      <th>2</th>\n",
       "      <td>28</td>\n",
       "      <td>32.722029</td>\n",
       "      <td>0</td>\n",
       "      <td>0</td>\n",
       "      <td>1</td>\n",
       "      <td>0</td>\n",
       "      <td>1</td>\n",
       "      <td>0</td>\n",
       "      <td>1</td>\n",
       "      <td>0</td>\n",
       "      <td>0</td>\n",
       "    </tr>\n",
       "    <tr>\n",
       "      <th>3</th>\n",
       "      <td>20</td>\n",
       "      <td>38.429831</td>\n",
       "      <td>2</td>\n",
       "      <td>1</td>\n",
       "      <td>0</td>\n",
       "      <td>1</td>\n",
       "      <td>0</td>\n",
       "      <td>0</td>\n",
       "      <td>0</td>\n",
       "      <td>1</td>\n",
       "      <td>0</td>\n",
       "    </tr>\n",
       "    <tr>\n",
       "      <th>4</th>\n",
       "      <td>45</td>\n",
       "      <td>29.641854</td>\n",
       "      <td>1</td>\n",
       "      <td>1</td>\n",
       "      <td>0</td>\n",
       "      <td>1</td>\n",
       "      <td>0</td>\n",
       "      <td>0</td>\n",
       "      <td>1</td>\n",
       "      <td>0</td>\n",
       "      <td>0</td>\n",
       "    </tr>\n",
       "  </tbody>\n",
       "</table>\n",
       "</div>"
      ],
      "text/plain": [
       "   age        bmi  children  sex_female  sex_male  smoker_no  smoker_yes  \\\n",
       "0   26  32.665465         3           0         1          1           0   \n",
       "1   41  29.798725         1           0         1          1           0   \n",
       "2   28  32.722029         0           0         1          0           1   \n",
       "3   20  38.429831         2           1         0          1           0   \n",
       "4   45  29.641854         1           1         0          1           0   \n",
       "\n",
       "   region_northeast  region_northwest  region_southeast  region_southwest  \n",
       "0                 0                 0                 1                 0  \n",
       "1                 0                 0                 0                 1  \n",
       "2                 0                 1                 0                 0  \n",
       "3                 0                 0                 1                 0  \n",
       "4                 0                 1                 0                 0  "
      ]
     },
     "execution_count": 7,
     "metadata": {},
     "output_type": "execute_result"
    }
   ],
   "source": [
    "X.head()"
   ]
  },
  {
   "cell_type": "code",
   "execution_count": 8,
   "id": "142f2f84",
   "metadata": {},
   "outputs": [
    {
     "data": {
      "text/plain": [
       "((1600, 11), (1600,))"
      ]
     },
     "execution_count": 8,
     "metadata": {},
     "output_type": "execute_result"
    }
   ],
   "source": [
    "X.shape, y.shape"
   ]
  },
  {
   "cell_type": "code",
   "execution_count": 9,
   "id": "b90464f0",
   "metadata": {},
   "outputs": [],
   "source": [
    "from sklearn.model_selection import train_test_split\n",
    "\n",
    "X_train, X_test, y_train, y_test = train_test_split(X, y, test_size = 0.2, random_state=0)"
   ]
  },
  {
   "cell_type": "code",
   "execution_count": 10,
   "id": "7a750ff5",
   "metadata": {},
   "outputs": [
    {
     "data": {
      "text/plain": [
       "((1280, 11), (1280,))"
      ]
     },
     "execution_count": 10,
     "metadata": {},
     "output_type": "execute_result"
    }
   ],
   "source": [
    "X_train.shape , y_train.shape"
   ]
  },
  {
   "cell_type": "markdown",
   "id": "f6d6fa05",
   "metadata": {},
   "source": [
    "# SVM(one versus one V.S. one versus the rest)"
   ]
  },
  {
   "cell_type": "code",
   "execution_count": 11,
   "id": "a36969b2",
   "metadata": {},
   "outputs": [],
   "source": [
    "from sklearn.datasets import load_digits\n",
    "from sklearn.multiclass import OneVsRestClassifier\n",
    "from sklearn.svm import SVC\n"
   ]
  },
  {
   "cell_type": "code",
   "execution_count": 12,
   "id": "4b7eb982",
   "metadata": {},
   "outputs": [],
   "source": [
    "C = 10.\n",
    "kernel = 'poly'\n",
    "gamma  = 0.01\n",
    "degree=3"
   ]
  },
  {
   "cell_type": "code",
   "execution_count": 13,
   "id": "2baf5081",
   "metadata": {},
   "outputs": [],
   "source": [
    "scv = SVC(C=C, kernel=kernel, gamma=gamma, degree= degree)\n",
    "scv.fit(X_train, y_train)\n",
    "y_pred_svc = scv.predict(X_test)"
   ]
  },
  {
   "cell_type": "code",
   "execution_count": 14,
   "id": "da97c866",
   "metadata": {},
   "outputs": [],
   "source": [
    "estimator = SVC(C=C, kernel=kernel, gamma=gamma)\n",
    "scv_therest = OneVsRestClassifier(estimator)\n",
    "scv_therest.fit(X_train, y_train)\n",
    "y_pred_therest = scv_therest.predict(X_test)"
   ]
  },
  {
   "cell_type": "code",
   "execution_count": null,
   "id": "68e4915c",
   "metadata": {},
   "outputs": [],
   "source": [
    "from sklearn.metrics import accuracy_score\n",
    "print ('One-versus-the-rest: {:.5f}'.format(accuracy_score(y_test, y_pred_therest)))\n",
    "print ('One-versus-one: {:.5f}'.format(accuracy_score(y_test, y_pred_svc)))"
   ]
  },
  {
   "cell_type": "code",
   "execution_count": null,
   "id": "fe648196",
   "metadata": {},
   "outputs": [],
   "source": [
    "from sklearn.metrics import f1_score\n",
    "print('f1 score: {:.3f}'.format(f1_score(y_test, y_pred_therest, average='macro')))"
   ]
  },
  {
   "cell_type": "markdown",
   "id": "057df324",
   "metadata": {},
   "source": [
    "# グリッドサーチ"
   ]
  },
  {
   "cell_type": "code",
   "execution_count": null,
   "id": "badc36d8",
   "metadata": {},
   "outputs": [],
   "source": [
    "from sklearn.metrics import confusion_matrix\n",
    "\n",
    "from sklearn.model_selection import GridSearchCV\n",
    "from sklearn.metrics import make_scorer"
   ]
  },
  {
   "cell_type": "code",
   "execution_count": null,
   "id": "4669996e",
   "metadata": {},
   "outputs": [],
   "source": [
    "param_grid = [0.01, 0.1, 1., 10., 100.]\n",
    "svc_param = {\n",
    "    \"C\":param_grid,\n",
    "    \"gamma\":param_grid\n",
    "}"
   ]
  },
  {
   "cell_type": "code",
   "execution_count": null,
   "id": "3efc928e",
   "metadata": {},
   "outputs": [],
   "source": [
    "# スコア方法をF1に設定\n",
    "def f1score(y_train: np.array, y_pred: np.array):\n",
    "    score = f1_score(y_test, clf.predict(X_test),average='macro')\n",
    "    return score\n",
    "\n",
    "\n",
    "f1_scoring = make_scorer(f1score, greater_is_better=True)"
   ]
  },
  {
   "cell_type": "code",
   "execution_count": null,
   "id": "8bad4db0",
   "metadata": {},
   "outputs": [],
   "source": [
    "svc=SVC()"
   ]
  },
  {
   "cell_type": "code",
   "execution_count": null,
   "id": "16ef2115",
   "metadata": {},
   "outputs": [],
   "source": [
    "# グリッドサーチで学習\n",
    "svc_search = GridSearchCV(estimator=svc, param_grid=svc_param, scoring='accuracy', cv=5)\n",
    "svc_search.fit(X_train, y_train)"
   ]
  },
  {
   "cell_type": "code",
   "execution_count": null,
   "id": "a407cd56",
   "metadata": {},
   "outputs": [],
   "source": [
    "print('Best parameters: {}'.format(svc_search.best_params_))\n",
    "print('Best score: {:.3f}'.format(svc_search.best_score_))"
   ]
  },
  {
   "cell_type": "code",
   "execution_count": null,
   "id": "da07e250",
   "metadata": {},
   "outputs": [],
   "source": [
    "clf = svc_search.best_estimator_\n",
    "clf.fit(X_train, y_train)"
   ]
  },
  {
   "cell_type": "code",
   "execution_count": null,
   "id": "77322076",
   "metadata": {},
   "outputs": [],
   "source": [
    "print('f1 score: {:.3f}'.format(f1_score(y_test, clf.predict(X_test),average='macro')))"
   ]
  },
  {
   "cell_type": "code",
   "execution_count": null,
   "id": "6da07fb0",
   "metadata": {},
   "outputs": [],
   "source": [
    "from sklearn.model_selection import RandomizedSearchCV\n",
    "\n",
    "param_range = np.power(10, np.arange(start=-3, stop=3, step=0.1))\n",
    "param_distributions = {\"C\":param_range, \"gamma\":param_range}\n",
    "svc = SVC()\n",
    "rs = RandomizedSearchCV(estimator=svc, param_distributions=param_distributions, scoring=\"accuracy\", cv=5, n_iter=100)\n",
    "rs.fit(X_train, y_train)"
   ]
  },
  {
   "cell_type": "code",
   "execution_count": null,
   "id": "fb5cdaa0",
   "metadata": {},
   "outputs": [],
   "source": [
    "rs.best_score_, rs.best_params_"
   ]
  },
  {
   "cell_type": "code",
   "execution_count": null,
   "id": "649252be",
   "metadata": {},
   "outputs": [],
   "source": [
    "clf = svc_search.best_estimator_\n",
    "clf.fit(X_train, y_train)"
   ]
  },
  {
   "cell_type": "code",
   "execution_count": null,
   "id": "33ff8c44",
   "metadata": {},
   "outputs": [],
   "source": [
    "print('f1 score: {:.3f}'.format(f1_score(y_test, clf.predict(X_test),average='macro')))"
   ]
  },
  {
   "cell_type": "code",
   "execution_count": null,
   "id": "fdc120b0",
   "metadata": {},
   "outputs": [],
   "source": []
  }
 ],
 "metadata": {
  "kernelspec": {
   "display_name": "Python 3",
   "language": "python",
   "name": "python3"
  },
  "language_info": {
   "codemirror_mode": {
    "name": "ipython",
    "version": 3
   },
   "file_extension": ".py",
   "mimetype": "text/x-python",
   "name": "python",
   "nbconvert_exporter": "python",
   "pygments_lexer": "ipython3",
   "version": "3.8.5"
  }
 },
 "nbformat": 4,
 "nbformat_minor": 5
}
