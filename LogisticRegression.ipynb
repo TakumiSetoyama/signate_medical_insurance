{
 "cells": [
  {
   "cell_type": "code",
   "execution_count": 1,
   "id": "a022eadf",
   "metadata": {},
   "outputs": [],
   "source": [
    "import pandas as pd\n",
    "import numpy as np\n",
    "import seaborn as sns\n",
    "import matplotlib.pyplot as plt\n",
    "%matplotlib inline"
   ]
  },
  {
   "cell_type": "code",
   "execution_count": 2,
   "id": "26ccda7c",
   "metadata": {},
   "outputs": [],
   "source": [
    "train_df = pd.read_csv('./data/train.csv')\n",
    "test_df = pd.read_csv('./data/test.csv')\n",
    "sample_submit = pd.read_csv('./data/sample_submit.csv')"
   ]
  },
  {
   "cell_type": "code",
   "execution_count": 3,
   "id": "1599ab86",
   "metadata": {},
   "outputs": [],
   "source": [
    "train_df = train_df.drop(columns=['id'])\n",
    "df = train_df.dropna()"
   ]
  },
  {
   "cell_type": "code",
   "execution_count": 4,
   "id": "f08098b5",
   "metadata": {},
   "outputs": [
    {
     "data": {
      "text/plain": [
       "(1600, 7)"
      ]
     },
     "execution_count": 4,
     "metadata": {},
     "output_type": "execute_result"
    }
   ],
   "source": [
    "df.shape"
   ]
  },
  {
   "cell_type": "code",
   "execution_count": 14,
   "id": "8ff0294e",
   "metadata": {},
   "outputs": [
    {
     "data": {
      "text/plain": [
       "0    1256\n",
       "1     198\n",
       "2     146\n",
       "Name: charges, dtype: int64"
      ]
     },
     "execution_count": 14,
     "metadata": {},
     "output_type": "execute_result"
    }
   ],
   "source": [
    "df['charges'].value_counts()"
   ]
  },
  {
   "cell_type": "code",
   "execution_count": 7,
   "id": "f2f84a76",
   "metadata": {},
   "outputs": [
    {
     "data": {
      "text/plain": [
       "Index(['age', 'sex', 'bmi', 'children', 'smoker', 'region', 'charges'], dtype='object')"
      ]
     },
     "execution_count": 7,
     "metadata": {},
     "output_type": "execute_result"
    }
   ],
   "source": [
    "df.columns"
   ]
  },
  {
   "cell_type": "code",
   "execution_count": 8,
   "id": "17fd0e9a",
   "metadata": {},
   "outputs": [],
   "source": [
    "X = df.drop(columns=['charges'])\n",
    "y = df['charges']"
   ]
  },
  {
   "cell_type": "code",
   "execution_count": 15,
   "id": "39c25a00",
   "metadata": {},
   "outputs": [],
   "source": [
    "X = pd.get_dummies(X)"
   ]
  },
  {
   "cell_type": "code",
   "execution_count": 17,
   "id": "fcffea91",
   "metadata": {},
   "outputs": [
    {
     "data": {
      "text/plain": [
       "((1600, 11), (1600,))"
      ]
     },
     "execution_count": 17,
     "metadata": {},
     "output_type": "execute_result"
    }
   ],
   "source": [
    "X.shape, y.shape"
   ]
  },
  {
   "cell_type": "code",
   "execution_count": 23,
   "id": "27534287",
   "metadata": {},
   "outputs": [],
   "source": [
    "from sklearn.model_selection import train_test_split\n",
    "\n",
    "X_train, X_test, y_train, y_test = train_test_split(X, y, test_size=0.2, random_state=0, stratify=y)"
   ]
  },
  {
   "cell_type": "code",
   "execution_count": 24,
   "id": "3f90eeb0",
   "metadata": {},
   "outputs": [
    {
     "data": {
      "text/plain": [
       "0    1005\n",
       "1     158\n",
       "2     117\n",
       "Name: charges, dtype: int64"
      ]
     },
     "execution_count": 24,
     "metadata": {},
     "output_type": "execute_result"
    }
   ],
   "source": [
    "y_train.value_counts()"
   ]
  },
  {
   "cell_type": "markdown",
   "id": "3c31630d",
   "metadata": {},
   "source": [
    "## ロジスティック回帰\n",
    "何も考えずにすべての変数を突っ込んだ"
   ]
  },
  {
   "cell_type": "code",
   "execution_count": 35,
   "id": "9398664d",
   "metadata": {},
   "outputs": [
    {
     "data": {
      "text/plain": [
       "Pipeline(steps=[('standardscaler', StandardScaler()),\n",
       "                ('logisticregression', LogisticRegression(C=1, max_iter=500))])"
      ]
     },
     "execution_count": 35,
     "metadata": {},
     "output_type": "execute_result"
    }
   ],
   "source": [
    "from sklearn.linear_model import LogisticRegression\n",
    "from sklearn.preprocessing import StandardScaler\n",
    "from sklearn.pipeline import make_pipeline\n",
    "\n",
    "\n",
    "pipe = make_pipeline(StandardScaler(),LogisticRegression(C=1, max_iter=500))\n",
    "\n",
    "pipe.fit(X_train, y_train)"
   ]
  },
  {
   "cell_type": "code",
   "execution_count": 36,
   "id": "12a0a027",
   "metadata": {},
   "outputs": [
    {
     "name": "stdout",
     "output_type": "stream",
     "text": [
      "acc_train: 0.87890625   acc_test: 0.8625\n"
     ]
    }
   ],
   "source": [
    "from sklearn.metrics import accuracy_score\n",
    "\n",
    "# 正答率\n",
    "acc_train = accuracy_score(y_train, lr.predict(X_train))\n",
    "acc_test = accuracy_score(y_test, lr.predict(X_test))\n",
    "\n",
    "print(\"acc_train: \"+ str(acc_train) + \"   acc_test: \"+ str(acc_test))"
   ]
  },
  {
   "cell_type": "code",
   "execution_count": 37,
   "id": "2173b14b",
   "metadata": {},
   "outputs": [
    {
     "name": "stdout",
     "output_type": "stream",
     "text": [
      "f1_train: 0.7449853766817714 f1_test 0.6810278388691516\n"
     ]
    }
   ],
   "source": [
    "from sklearn.metrics import f1_score\n",
    "\n",
    "f1_train = f1_score(y_train, lr.predict(X_train), average='macro')\n",
    "f1_test = f1_score(y_test, lr.predict(X_test), average='macro')\n",
    "\n",
    "# 評価結果の表示\n",
    "print(\"f1_train:\", f1_train, \"f1_test\", f1_test)"
   ]
  },
  {
   "cell_type": "code",
   "execution_count": null,
   "id": "6d753b7e",
   "metadata": {},
   "outputs": [],
   "source": []
  }
 ],
 "metadata": {
  "kernelspec": {
   "display_name": "Python 3",
   "language": "python",
   "name": "python3"
  },
  "language_info": {
   "codemirror_mode": {
    "name": "ipython",
    "version": 3
   },
   "file_extension": ".py",
   "mimetype": "text/x-python",
   "name": "python",
   "nbconvert_exporter": "python",
   "pygments_lexer": "ipython3",
   "version": "3.8.5"
  }
 },
 "nbformat": 4,
 "nbformat_minor": 5
}
